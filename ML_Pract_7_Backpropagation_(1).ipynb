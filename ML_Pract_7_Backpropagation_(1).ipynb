{
  "cells": [
    {
      "cell_type": "markdown",
      "metadata": {
        "id": "view-in-github",
        "colab_type": "text"
      },
      "source": [
        "<a href=\"https://colab.research.google.com/github/anuj7169/ML/blob/main/ML_Pract_7_Backpropagation_(1).ipynb\" target=\"_parent\"><img src=\"https://colab.research.google.com/assets/colab-badge.svg\" alt=\"Open In Colab\"/></a>"
      ]
    },
    {
      "cell_type": "code",
      "execution_count": null,
      "metadata": {
        "id": "EcPkjfZm-yO6",
        "outputId": "cdd23c4b-f83b-4322-b87c-a4cce22d3069"
      },
      "outputs": [
        {
          "name": "stdout",
          "output_type": "stream",
          "text": [
            "w= [0.18600853] [0.5824793] [0.13048417] [0.14779709]\n",
            "w2,w3= 0.7601703168045085 0.027900018559346762\n",
            "b1,b2= [-0.15375251] [-5.31267399]\n"
          ]
        },
        {
          "data": {
            "image/png": "[encoded data removed]",
            "text/plain": [
              "<Figure size 432x288 with 1 Axes>"
            ]
          },
          "metadata": {
            "needs_background": "light"
          },
          "output_type": "display_data"
        }
      ],
      "source": [
        "import numpy as np\n",
        "import matplotlib.pyplot as plt\n",
        "##Multiple samples\n",
        "# x1=np.array([0,1,0,1])\n",
        "# x2=np.array([0,0,1,1])\n",
        "# y=[1,1,1,0] # target\n",
        "#single Sample\n",
        "x1=np.array([0])\n",
        "x2=np.array([0])\n",
        "y=[0] # target\n",
        "earray=[]\n",
        "itra=[]\n",
        "#np.random.seed(23)\n",
        "w00=np.random.rand() #weights for hidden layer\n",
        "w01=np.random.rand() #weights for hidden layer\n",
        "w10=np.random.rand() #weights for hidden layer\n",
        "w11=np.random.rand() #weights for hidden layer\n",
        "b1=1.0 #bias for hidden layer\n",
        "w2=np.random.rand()#weights for outputlayer\n",
        "w3=np.random.rand()#weights for output layer\n",
        "b2=1.0   #bias for output layer\n",
        "iterations=10000\n",
        "for itr in range(iterations):\n",
        "\n",
        "    #forward propogation\n",
        "    #input layer to hidden layer\n",
        "    z1=w00*x1+w01*x2+b1 # hidden layer z1\n",
        "    z2=w10*x1+w11*x2+b1 # hidden layer z2\n",
        "    h1=1/(1+np.exp(-z1))# hidden layer h1\n",
        "    h2=1/(1+np.exp(-z2))# hidden layer h2\n",
        "    #forward propogation\n",
        "    # hidden layer to output layer\n",
        "    zout=w2*h1+w3*h2+b2 # output  layer z\n",
        "    o=1/(1+np.exp(-zout))# output  layer output o\n",
        "    #Back propogation\n",
        "    #output to hidden layer\n",
        "    # gradient determination\n",
        "    e=0.5*np.mean((o-y)*(o-y)) # simple error\n",
        "    de_do=o-y\n",
        "    do_dzout=o*(1-o)\n",
        "    dzout_dw2=h1\n",
        "    dzout_dw3=h2\n",
        "    dzout_db2=1\n",
        "    #de_dw2\n",
        "    de_dw2=de_do*do_dzout*dzout_dw2\n",
        "    #de_dw3\n",
        "    de_dw3=de_do*do_dzout*dzout_dw3\n",
        "    #de_db2\n",
        "    de_db2=de_do*do_dzout*dzout_db2\n",
        "\n",
        "    #hidden layer to input layer\n",
        "    # gradient determination\n",
        "    dzout_dh1=w2\n",
        "    dh1_dz1=h1*(1-h1)\n",
        "    dzout_dh2=w3\n",
        "    dh2_dz2=h2*(1-h2)\n",
        "    dz1_dw00=x1\n",
        "    dz2_dw01=x2\n",
        "    dz1_dw10=x1\n",
        "    dz2_dw11=x2\n",
        "    dz1_db1=1\n",
        "    dz2_db1=1\n",
        "\n",
        "    #de_dw00\n",
        "    de_dw00=de_do*do_dzout*dzout_dh1*dh1_dz1*dz1_dw00\n",
        "    #de_dw01\n",
        "    de_dw01=de_do*do_dzout*dzout_dh2*dh2_dz2*dz2_dw01\n",
        "    #de_dw10\n",
        "    de_dw10=de_do*do_dzout*dzout_dh1*dh1_dz1*dz1_dw10\n",
        "    #de_dw11\n",
        "    de_dw11=de_do*do_dzout*dzout_dh2*dh2_dz2*dz2_dw11\n",
        "    #de_db1\n",
        "    de_db1=de_do*do_dzout*dzout_dh1*dh1_dz1*dz1_db1+de_do*do_dzout*dzout_dh2*dh2_dz2*dz2_db1\n",
        "\n",
        "    #Udates\n",
        "    w00-=de_dw00\n",
        "    w01-=de_dw01\n",
        "    w10-=de_dw10\n",
        "    w11-=de_dw11\n",
        "    b1-=de_db1\n",
        "    b2-=de_db2\n",
        "    earray.append(np.mean(e))\n",
        "    itra.append(itr)\n",
        "plt.ylabel(\"error\")\n",
        "plt.xlabel(\"itratiom\")\n",
        "plt.title(\"error plot\")\n",
        "plt.plot(itra,earray)\n",
        "print(\"w=\",w00,w01,w10,w11)\n",
        "print(\"w2,w3=\",w2,w3)\n",
        "print(\"b1,b2=\",b1,b2)"
      ]
    },
    {
      "cell_type": "code",
      "execution_count": null,
      "metadata": {
        "id": "FXiHXkgD-yPB",
        "outputId": "b92935d8-89a1-4072-8740-128e62734eb1"
      },
      "outputs": [
        {
          "name": "stdout",
          "output_type": "stream",
          "text": [
            "o= [0.]\n"
          ]
        }
      ],
      "source": [
        "# #Multiple samples test\n",
        "# x1=np.array([0,1,0,1])\n",
        "# x2=np.array([0,0,1,1])\n",
        "#Single sample test\n",
        "x1=np.array([0])\n",
        "x2=np.array([0])\n",
        "z1=w00*x1+w01*x2+b1 # hidden layer z1\n",
        "z2=w10*x1+w11*x2+b1 # hidden layer z2\n",
        "h1=1/(1+np.exp(-z1))# hidden layer h1\n",
        "h2=1/(1+np.exp(-z2))# hidden layer h2\n",
        "#forward propogation\n",
        "# hidden layer to output layer\n",
        "zout=w2*h1+w3*h2+b2 # output  layer z\n",
        "o=1/(1+np.exp(-zout))# output  layer output o\n",
        "print(\"o=\",np.round(o))\n",
        "\n"
      ]
    },
    {
      "cell_type": "code",
      "execution_count": null,
      "metadata": {
        "id": "L8HzRZbv-yPB"
      },
      "outputs": [],
      "source": []
    },
    {
      "cell_type": "code",
      "execution_count": null,
      "metadata": {
        "id": "5hokDJyH-yPC"
      },
      "outputs": [],
      "source": []
    }
  ],
  "metadata": {
    "kernelspec": {
      "display_name": "Python 3",
      "language": "python",
      "name": "python3"
    },
    "language_info": {
      "codemirror_mode": {
        "name": "ipython",
        "version": 3
      },
      "file_extension": ".py",
      "mimetype": "text/x-python",
      "name": "python",
      "nbconvert_exporter": "python",
      "pygments_lexer": "ipython3",
      "version": "3.7.4"
    },
    "colab": {
      "provenance": [],
      "include_colab_link": true
    }
  },
  "nbformat": 4,
  "nbformat_minor": 0
}