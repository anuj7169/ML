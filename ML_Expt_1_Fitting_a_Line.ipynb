{
  "cells": [
    {
      "cell_type": "markdown",
      "metadata": {
        "id": "view-in-github",
        "colab_type": "text"
      },
      "source": [
        "<a href=\"https://colab.research.google.com/github/anuj7169/ML/blob/main/ML_Expt_1_Fitting_a_Line.ipynb\" target=\"_parent\"><img src=\"https://colab.research.google.com/assets/colab-badge.svg\" alt=\"Open In Colab\"/></a>"
      ]
    },
    {
      "cell_type": "markdown",
      "metadata": {
        "id": "NYiYxePpCAJj"
      },
      "source": [
        "Expt No-1- Program for fitting a line for a given data.\n"
      ]
    },
    {
      "cell_type": "code",
      "execution_count": null,
      "metadata": {
        "id": "qjD5Kx-6CAKI",
        "outputId": "2eccb10c-c01a-48e3-ba70-af74265ecf9c"
      },
      "outputs": [
        {
          "name": "stdout",
          "output_type": "stream",
          "text": [
            "        0        1      2      3        4     5       6\n",
            "0    83.0  234.289  235.6  159.0  107.608  1947  60.323\n",
            "1    88.5  259.426  232.5  145.6  108.632  1948  61.122\n",
            "2    88.2  258.054  368.2  161.6  109.773  1949  60.171\n",
            "3    89.5  284.599  335.1  165.0  110.929  1950  61.187\n",
            "4    96.2  328.975  209.9  309.9  112.075  1951  63.221\n",
            "5    98.1  346.999  193.2  359.4  113.270  1952  63.639\n",
            "6    99.0  365.385  187.0  354.7  115.094  1953  64.989\n",
            "7   100.0  363.112  357.8  335.0  116.219  1954  63.761\n",
            "8   101.2  397.469  290.4  304.8  117.388  1955  66.019\n",
            "9   104.6  419.180  282.2  285.7  118.734  1956  67.857\n",
            "10  108.4  442.769  293.6  279.8  120.445  1957  68.169\n",
            "11  110.8  444.546  468.1  263.7  121.950  1958  66.513\n",
            "12  112.6  482.704  381.3  255.2  123.366  1959  68.655\n",
            "13  114.2  502.601  393.1  251.4  125.368  1960  69.564\n",
            "14  115.7  518.173  480.6  257.2  127.852  1961  69.331\n",
            "15  116.9  554.894  400.7  282.7  130.081  1962  70.551\n",
            "xs= [107.608 108.632 109.773 110.929 112.075 113.27  115.094 116.219 117.388\n",
            " 118.734 120.445 121.95  123.366 125.368 127.852 130.081]\n",
            "ys= [60.323 61.122 60.171 61.187 63.221 63.639 64.989 63.761 66.019 67.857\n",
            " 68.169 66.513 68.655 69.564 69.331 70.551]\n"
          ]
        }
      ],
      "source": [
        "# load the dataset\n",
        "from pandas import read_csv\n",
        "url = 'https://raw.githubusercontent.com/jbrownlee/Datasets/master/longley.csv'\n",
        "dataframe = read_csv(url, header=None)\n",
        "print(dataframe)\n",
        "data = dataframe.values\n",
        "# choose the input and output variables\n",
        "xs, ys = data[:, 4], data[:, -1]\n",
        "print('xs=',xs)\n",
        "print('ys=',ys)\n"
      ]
    },
    {
      "cell_type": "code",
      "execution_count": null,
      "metadata": {
        "id": "jO48bfu2CAKL",
        "outputId": "14af0ae8-a84c-4668-cfbe-c23354b8470c"
      },
      "outputs": [
        {
          "name": "stdout",
          "output_type": "stream",
          "text": [
            "[[ 0.04981121  5.3578233 ]\n",
            " [ 0.09962241  5.66317734]\n",
            " [ 0.1549682   5.99546497]\n",
            " [ 0.21031398  6.31947144]\n",
            " [ 0.26565976  6.63426069]\n",
            " [ 0.32100555  6.93891889]\n",
            " [ 0.38250086  7.2644727 ]\n",
            " [ 0.44399618  7.57527423]\n",
            " [ 0.51232431  7.90199367]\n",
            " [ 0.58065244  8.2078077 ]\n",
            " [ 0.65657258  8.52162186]\n",
            " [ 0.74092829  8.83659809]\n",
            " [ 0.83465687  9.14322459]\n",
            " [ 0.93879972  9.42886211]\n",
            " [ 1.06737115  9.70066606]\n",
            " [ 1.21022829  9.89952808]\n",
            " [ 1.36895845 10.        ]\n",
            " [ 1.5453253   9.97857467]\n",
            " [ 1.70405545  9.85892518]\n",
            " [ 1.8469126   9.68756286]\n",
            " [ 1.98976974  9.47221848]\n",
            " [ 2.13262688  9.22831793]\n",
            " [ 2.27548403  8.97008939]\n",
            " [ 2.41834117  8.70990975]\n",
            " [ 2.56119831  8.45788329]\n",
            " [ 2.70405545  8.22165847]\n",
            " [ 2.8469126   8.00646275]\n",
            " [ 2.98976974  7.81531662]\n",
            " [ 3.13262688  7.64937719]\n",
            " [ 3.27548403  7.50835948]\n",
            " [ 3.43421418  7.37932828]\n",
            " [ 3.59294434  7.27695668]\n",
            " [ 3.76931119  7.19120858]\n",
            " [ 3.94567803  7.13192415]\n",
            " [ 4.12204487  7.09718523]\n",
            " [ 4.29841172  7.08662899]\n",
            " [ 4.47477856  7.1014417 ]\n",
            " [ 4.6511454   7.1439651 ]\n",
            " [ 4.82751224  7.21687846]\n",
            " [ 4.9862424   7.30998324]\n",
            " [ 5.14497256  7.42872975]\n",
            " [ 5.30370272  7.56987754]\n",
            " [ 5.44655986  7.7102248 ]\n",
            " [ 5.58941701  7.85436077]\n",
            " [ 5.73227415  7.99013671]\n",
            " [ 5.89100431  8.1120287 ]\n",
            " [ 6.06737115  8.18110745]\n",
            " [ 6.24373799  8.14242949]\n",
            " [ 6.38659514  8.00560856]\n",
            " [ 6.52945228  7.75557101]\n",
            " [ 6.64516657  7.46176594]\n",
            " [ 6.73889514  7.16170223]\n",
            " [ 6.82325085  6.84448963]\n",
            " [ 6.89917099  6.52220579]\n",
            " [ 6.96749912  6.20414095]\n",
            " [ 7.02899444  5.89701021]\n",
            " [ 7.09048975  5.57210821]\n",
            " [ 7.14583554  5.26638114]\n",
            " [ 7.20118132  4.94998713]\n",
            " [ 7.25652711  4.62499925]\n",
            " [ 7.31187289  4.29365787]\n",
            " [ 7.3616841   3.99198465]\n",
            " [ 7.4114953   3.68890911]\n",
            " [ 7.46130651  3.38630343]\n",
            " [ 7.51665229  3.05294867]\n",
            " [ 7.57199808  2.72517305]\n",
            " [ 7.62734386  2.40560962]\n",
            " [ 7.68268964  2.09684798]\n",
            " [ 7.74418496  1.76949993]\n",
            " [ 7.80568028  1.4618688 ]\n",
            " [ 7.8740084   1.14689582]\n",
            " [ 7.94992855  0.83451213]\n",
            " [ 8.03428426  0.53908804]\n",
            " [ 8.13842712  0.25639799]\n",
            " [ 8.28128426  0.02631009]\n",
            " [ 8.4576511   0.        ]\n",
            " [ 8.60050825  0.17872281]\n",
            " [ 8.71622253  0.44125718]\n",
            " [ 8.8099511   0.72073056]\n",
            " [ 8.89430682  1.01536227]\n",
            " [ 8.97022696  1.30921069]\n",
            " [ 9.0461471   1.62438235]\n",
            " [ 9.11447523  1.92142577]\n",
            " [ 9.18280336  2.22662239]\n",
            " [ 9.25113149  2.53555106]\n",
            " [ 9.31945962  2.84377443]\n",
            " [ 9.38778775  3.14686531]\n",
            " [ 9.46370789  3.47226588]\n",
            " [ 9.53962803  3.77993055]\n",
            " [ 9.62398375  4.0938085 ]\n",
            " [ 9.71771232  4.39863796]\n",
            " [ 9.8334266   4.69563206]\n",
            " [ 9.97628375  4.91324005]]\n"
          ]
        }
      ],
      "source": [
        "import pandas as pd\n",
        "df=pd.read_excel('D:\\\\simpleio.xlsx')\n",
        "df=df.values\n",
        "xs=df[:,0]\n",
        "ys=df[:,1]\n",
        "print(df)"
      ]
    },
    {
      "cell_type": "code",
      "execution_count": null,
      "metadata": {
        "id": "p1a0xcAnCAKM",
        "outputId": "ba328438-db2f-40e1-d008-b82022260588"
      },
      "outputs": [
        {
          "name": "stdout",
          "output_type": "stream",
          "text": [
            "-0.7023014189975106\n"
          ]
        }
      ],
      "source": [
        "from statistics import mean\n",
        "import numpy as np\n",
        "\n",
        "#xs = np.array([1,2,3,4,5], dtype=np.float64)\n",
        "#ys = np.array([5,4,6,5,6], dtype=np.float64)\n",
        "\n",
        "def best_fit_slope(xs,ys):\n",
        "    m = (((mean(xs)*mean(ys)) - mean(xs*ys)) /\n",
        "         ((mean(xs)*mean(xs)) - mean(xs*xs)))\n",
        "    return m\n",
        "\n",
        "m = best_fit_slope(xs,ys)\n",
        "print(m)"
      ]
    },
    {
      "cell_type": "code",
      "execution_count": null,
      "metadata": {
        "id": "uRuPZIdtCAKN",
        "outputId": "44771f80-e491-42d1-a786-dfe8c4890566"
      },
      "outputs": [
        {
          "name": "stdout",
          "output_type": "stream",
          "text": [
            "-0.7023014189975106 9.456925921867294\n"
          ]
        }
      ],
      "source": [
        "def best_fit_slope_and_intercept(xs,ys):\n",
        "    m = (((mean(xs)*mean(ys)) - mean(xs*ys)) /\n",
        "         ((mean(xs)*mean(xs)) - mean(xs*xs)))\n",
        "\n",
        "    b = mean(ys) - m*mean(xs)\n",
        "\n",
        "    return m, b\n",
        "m, b = best_fit_slope_and_intercept(xs,ys)\n",
        "\n",
        "print(m,b)"
      ]
    },
    {
      "cell_type": "code",
      "execution_count": null,
      "metadata": {
        "id": "hOq9_u4eCAKO"
      },
      "outputs": [],
      "source": [
        "regression_line = [(m*x)+b for x in xs]\n",
        "regression_line = []\n",
        "for x in xs:\n",
        "    regression_line.append((m*x)+b)"
      ]
    },
    {
      "cell_type": "code",
      "execution_count": null,
      "metadata": {
        "id": "CKq0Hdf2CAKP",
        "outputId": "e6aab389-5348-4ec6-c5f7-ae31a81796ff"
      },
      "outputs": [
        {
          "data": {
            "image/png": "[encoded data removed]",
            "text/plain": [
              "<Figure size 432x288 with 1 Axes>"
            ]
          },
          "metadata": {},
          "output_type": "display_data"
        }
      ],
      "source": [
        "import matplotlib.pyplot as plt\n",
        "from matplotlib import style\n",
        "style.use('ggplot')\n",
        "plt.scatter(xs,ys,color='#003F72')\n",
        "plt.plot(xs, regression_line)\n",
        "plt.show()"
      ]
    },
    {
      "cell_type": "code",
      "execution_count": null,
      "metadata": {
        "id": "LzBMoUqoCAKQ",
        "outputId": "87d8b450-37c9-449e-f929-382f5c80ea06"
      },
      "outputs": [
        {
          "name": "stdout",
          "output_type": "stream",
          "text": [
            "62.202143096419825\n"
          ]
        }
      ],
      "source": [
        "predict_x = 111\n",
        "predict_y = (m*predict_x)+b\n",
        "\n",
        "#plt.scatter(xs,ys,color='#003F72',label='data')\n",
        "#plt.plot(xs, regression_line, label='regression line')\n",
        "#plt.legend(loc=4)\n",
        "#plt.show()\n",
        "print(predict_y)"
      ]
    },
    {
      "cell_type": "code",
      "execution_count": null,
      "metadata": {
        "id": "7mKhp8mhCAKQ"
      },
      "outputs": [],
      "source": []
    }
  ],
  "metadata": {
    "kernelspec": {
      "display_name": "Python 3",
      "language": "python",
      "name": "python3"
    },
    "language_info": {
      "codemirror_mode": {
        "name": "ipython",
        "version": 3
      },
      "file_extension": ".py",
      "mimetype": "text/x-python",
      "name": "python",
      "nbconvert_exporter": "python",
      "pygments_lexer": "ipython3",
      "version": "3.7.4"
    },
    "colab": {
      "provenance": [],
      "include_colab_link": true
    }
  },
  "nbformat": 4,
  "nbformat_minor": 0
}