{
  "cells": [
    {
      "cell_type": "markdown",
      "metadata": {
        "id": "view-in-github",
        "colab_type": "text"
      },
      "source": [
        "<a href=\"https://colab.research.google.com/github/anuj7169/ML/blob/main/ML_Expt_2_Linear_Regression.ipynb\" target=\"_parent\"><img src=\"https://colab.research.google.com/assets/colab-badge.svg\" alt=\"Open In Colab\"/></a>"
      ]
    },
    {
      "cell_type": "code",
      "execution_count": null,
      "metadata": {
        "id": "omkopvrtDRbC"
      },
      "outputs": [],
      "source": [
        "import tensorflow as tf\n",
        "from tensorflow import keras\n",
        "print(tf.__version__)\n",
        "print(keras.__version__)\n",
        "import numpy as np\n",
        "import pandas as pd\n",
        "import matplotlib.pyplot as plt\n",
        "from sklearn.model_selection import train_test_split"
      ]
    },
    {
      "cell_type": "code",
      "execution_count": null,
      "metadata": {
        "id": "bkpBkHVyDRbG"
      },
      "outputs": [],
      "source": [
        "df=pd.read_excel('D:\\\\simpleio.xlsx')\n",
        "df=df.values\n",
        "xs=df[:,0]\n",
        "ys=df[:,1]"
      ]
    },
    {
      "cell_type": "code",
      "execution_count": null,
      "metadata": {
        "id": "QiVjGetoDRbH"
      },
      "outputs": [],
      "source": [
        "X_train=xs[0:70]\n",
        "X_test=xs[71::]\n",
        "Y_train=ys[0:70]\n",
        "Y_test=ys[71::]\n",
        "print(X_train)\n",
        "print(X_test)\n",
        "print(Y_train)\n",
        "print(Y_test)"
      ]
    },
    {
      "cell_type": "code",
      "execution_count": null,
      "metadata": {
        "id": "bsbu3ZeLDRbI"
      },
      "outputs": [],
      "source": [
        "X_train, X_test, Y_train, Y_test = train_test_split(xs, ys, test_size = 0.3,random_state =0)\n",
        "print(X_test)\n",
        "print(Y_test)"
      ]
    },
    {
      "cell_type": "code",
      "execution_count": null,
      "metadata": {
        "id": "N9AGVDHODRbI"
      },
      "outputs": [],
      "source": [
        "model = tf.keras.models.Sequential([tf.keras.layers.Dense(1,input_dim=1),\n",
        "                                             tf.keras.layers.Dense(10,activation=tf.nn.sigmoid),\n",
        "                                             tf.keras.layers.Dense(1)])\n"
      ]
    },
    {
      "cell_type": "code",
      "execution_count": null,
      "metadata": {
        "id": "jG6g3VN5DRbJ"
      },
      "outputs": [],
      "source": [
        "model.summary()"
      ]
    },
    {
      "cell_type": "code",
      "execution_count": null,
      "metadata": {
        "id": "fTDaseqlDRbK"
      },
      "outputs": [],
      "source": [
        "model.compile(optimizer=tf.keras.optimizers.Adam(learning_rate=0.1),\n",
        "                      loss=tf.keras.losses.mean_squared_error,\n",
        "                      metrics=[tf.keras.metrics.MeanSquaredError()])\n"
      ]
    },
    {
      "cell_type": "code",
      "execution_count": null,
      "metadata": {
        "id": "Jq3Ez1v-DRbL"
      },
      "outputs": [],
      "source": [
        "model.fit(X_train,Y_train,epochs=1000,verbose=1)"
      ]
    },
    {
      "cell_type": "code",
      "execution_count": null,
      "metadata": {
        "id": "y6Rb1GGvDRbM"
      },
      "outputs": [],
      "source": [
        "model.evaluate(X_test,Y_test,verbose=2)\n"
      ]
    },
    {
      "cell_type": "code",
      "execution_count": null,
      "metadata": {
        "id": "ZXxUPPPxDRbM"
      },
      "outputs": [],
      "source": [
        "X_new = X_test[:20] # pretend these are new instances\n",
        "y_pred = model.predict(X_new)\n",
        "plt.figure(figsize=(10,5))\n",
        "plt.plot(np.arange(0,len(X_new),1),Y_test[:20],'b--',label='Actual')\n",
        "plt.plot(np.arange(0,len(X_new),1),y_pred,'r--',label='Predicted')\n",
        "plt.legend()\n",
        "plt.show()"
      ]
    },
    {
      "cell_type": "code",
      "execution_count": null,
      "metadata": {
        "id": "g2aSiKA1DRbN"
      },
      "outputs": [],
      "source": [
        "X_new = X_test[:20]\n",
        "plt. plot(X_new,y_pred, 'o')\n",
        "m, b = np. polyfit(X_new,y_pred, 1)\n",
        "plt. plot(X_new, m*X_new + b)"
      ]
    },
    {
      "cell_type": "code",
      "execution_count": null,
      "metadata": {
        "id": "yBlJ8WmcDRbN"
      },
      "outputs": [],
      "source": [
        "import seaborn as sns\n",
        "#sns.set_theme(color_codes=True)\n",
        "sns.regplot(x=X_new, y=y_pred, color=\"g\")"
      ]
    },
    {
      "cell_type": "code",
      "execution_count": null,
      "metadata": {
        "id": "sEZ1pg82DRbO"
      },
      "outputs": [],
      "source": [
        "from sklearn.linear_model import LinearRegression\n",
        "\n",
        "# x from 0 to 30\n",
        "x = xs\n",
        "\n",
        "# y = a*x + b with noise\n",
        "y = ys\n",
        "\n",
        "# create a linear regression model\n",
        "model = LinearRegression()\n",
        "model.fit(x, y)\n",
        "\n",
        "# predict y from the data\n",
        "y_new = model.predict(X_new)"
      ]
    },
    {
      "cell_type": "code",
      "execution_count": null,
      "metadata": {
        "id": "W46eETNlDRbO"
      },
      "outputs": [],
      "source": []
    }
  ],
  "metadata": {
    "kernelspec": {
      "display_name": "Python 3",
      "language": "python",
      "name": "python3"
    },
    "language_info": {
      "codemirror_mode": {
        "name": "ipython",
        "version": 3
      },
      "file_extension": ".py",
      "mimetype": "text/x-python",
      "name": "python",
      "nbconvert_exporter": "python",
      "pygments_lexer": "ipython3",
      "version": "3.7.4"
    },
    "colab": {
      "provenance": [],
      "include_colab_link": true
    }
  },
  "nbformat": 4,
  "nbformat_minor": 0
}